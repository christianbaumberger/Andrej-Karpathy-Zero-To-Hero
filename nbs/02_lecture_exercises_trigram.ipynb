{
 "cells": [
  {
   "cell_type": "code",
   "execution_count": 1,
   "metadata": {},
   "outputs": [],
   "source": [
    "import torch\n",
    "import torch.nn.functional as F\n",
    "import matplotlib.pyplot as plt\n",
    "import time"
   ]
  },
  {
   "cell_type": "code",
   "execution_count": 2,
   "metadata": {},
   "outputs": [],
   "source": [
    "words = open(\"names.txt\").read().splitlines()"
   ]
  },
  {
   "cell_type": "code",
   "execution_count": 3,
   "metadata": {},
   "outputs": [
    {
     "name": "stdout",
     "output_type": "stream",
     "text": [
      "{1: 'a', 2: 'b', 3: 'c', 4: 'd', 5: 'e', 6: 'f', 7: 'g', 8: 'h', 9: 'i', 10: 'j', 11: 'k', 12: 'l', 13: 'm', 14: 'n', 15: 'o', 16: 'p', 17: 'q', 18: 'r', 19: 's', 20: 't', 21: 'u', 22: 'v', 23: 'w', 24: 'x', 25: 'y', 26: 'z', 0: '.'}\n"
     ]
    }
   ],
   "source": [
    "unique_chars = sorted(list(set(\"\".join(words))))\n",
    "stoi = {c: i+1 for i, c in enumerate(unique_chars)}\n",
    "stoi[\".\"] = 0\n",
    "itos = {i: c for c, i in stoi.items()}\n",
    "print(itos)"
   ]
  },
  {
   "cell_type": "code",
   "execution_count": 4,
   "metadata": {},
   "outputs": [],
   "source": [
    "# create training set:\n",
    "xs, ys = [], []\n",
    "\n",
    "for w in words:\n",
    "    chars = [\".\", \".\"] + list(w) + [\".\"]\n",
    "    for char1, char2, char3 in zip(chars, chars[1:], chars[2:]):\n",
    "        idx1 = stoi[char1]\n",
    "        idx2 = stoi[char2]\n",
    "        idx3 = stoi[char3]\n",
    "        # print(char1, char2, char3)\n",
    "        xs.append([idx1, idx2])\n",
    "        ys.append(idx3)\n",
    "    \n",
    "xs = torch.tensor(xs)\n",
    "ys = torch.tensor(ys)"
   ]
  },
  {
   "cell_type": "code",
   "execution_count": 5,
   "metadata": {},
   "outputs": [
    {
     "data": {
      "text/plain": [
       "tensor([[ 0,  0],\n",
       "        [ 0,  5],\n",
       "        [ 5, 13],\n",
       "        [13, 13],\n",
       "        [13,  1],\n",
       "        [ 0,  0],\n",
       "        [ 0, 15],\n",
       "        [15, 12],\n",
       "        [12,  9],\n",
       "        [ 9, 22]])"
      ]
     },
     "execution_count": 5,
     "metadata": {},
     "output_type": "execute_result"
    }
   ],
   "source": [
    "xs[:10]"
   ]
  },
  {
   "cell_type": "code",
   "execution_count": 6,
   "metadata": {},
   "outputs": [
    {
     "data": {
      "text/plain": [
       "torch.Size([228146])"
      ]
     },
     "execution_count": 6,
     "metadata": {},
     "output_type": "execute_result"
    }
   ],
   "source": [
    "ys.shape"
   ]
  },
  {
   "cell_type": "code",
   "execution_count": 7,
   "metadata": {},
   "outputs": [
    {
     "data": {
      "text/plain": [
       "torch.Size([228146, 2])"
      ]
     },
     "execution_count": 7,
     "metadata": {},
     "output_type": "execute_result"
    }
   ],
   "source": [
    "xs.shape"
   ]
  },
  {
   "cell_type": "code",
   "execution_count": 8,
   "metadata": {},
   "outputs": [],
   "source": [
    "g = torch.Generator().manual_seed(2147483647)\n",
    "W = torch.randn((54,27), generator=g, requires_grad=True)"
   ]
  },
  {
   "cell_type": "code",
   "execution_count": 9,
   "metadata": {},
   "outputs": [
    {
     "data": {
      "text/plain": [
       "torch.Size([228146, 27])"
      ]
     },
     "execution_count": 9,
     "metadata": {},
     "output_type": "execute_result"
    }
   ],
   "source": [
    "xenc1 = F.one_hot(xs[:,0], num_classes=27).float()\n",
    "xenc1.shape"
   ]
  },
  {
   "cell_type": "code",
   "execution_count": 10,
   "metadata": {},
   "outputs": [
    {
     "data": {
      "text/plain": [
       "torch.Size([228146, 27])"
      ]
     },
     "execution_count": 10,
     "metadata": {},
     "output_type": "execute_result"
    }
   ],
   "source": [
    "xenc2 = F.one_hot(xs[:,1], num_classes=27).float()\n",
    "xenc2.shape"
   ]
  },
  {
   "cell_type": "code",
   "execution_count": 11,
   "metadata": {},
   "outputs": [
    {
     "data": {
      "text/plain": [
       "torch.Size([228146, 54])"
      ]
     },
     "execution_count": 11,
     "metadata": {},
     "output_type": "execute_result"
    }
   ],
   "source": [
    "xenc12 = torch.cat([xenc1, xenc2], dim=1)\n",
    "xenc12.shape"
   ]
  },
  {
   "cell_type": "code",
   "execution_count": 12,
   "metadata": {},
   "outputs": [
    {
     "data": {
      "text/plain": [
       "tensor([1., 0., 0., 0., 0., 0., 0., 0., 0., 0., 0., 0., 0., 0., 0., 0., 0., 0.,\n",
       "        0., 0., 0., 0., 0., 0., 0., 0., 0., 1., 0., 0., 0., 0., 0., 0., 0., 0.,\n",
       "        0., 0., 0., 0., 0., 0., 0., 0., 0., 0., 0., 0., 0., 0., 0., 0., 0., 0.])"
      ]
     },
     "execution_count": 12,
     "metadata": {},
     "output_type": "execute_result"
    }
   ],
   "source": [
    "xenc12[12]"
   ]
  },
  {
   "cell_type": "code",
   "execution_count": 13,
   "metadata": {},
   "outputs": [
    {
     "data": {
      "text/plain": [
       "torch.Size([228146, 27])"
      ]
     },
     "execution_count": 13,
     "metadata": {},
     "output_type": "execute_result"
    }
   ],
   "source": [
    "(xenc12 @ W).shape"
   ]
  },
  {
   "cell_type": "code",
   "execution_count": 14,
   "metadata": {},
   "outputs": [],
   "source": [
    "g = torch.Generator().manual_seed(2147483647)\n",
    "W = torch.randn((54,27), generator=g, requires_grad=True)"
   ]
  },
  {
   "cell_type": "code",
   "execution_count": 15,
   "metadata": {},
   "outputs": [
    {
     "name": "stdout",
     "output_type": "stream",
     "text": [
      "4.329545021057129\n"
     ]
    },
    {
     "name": "stderr",
     "output_type": "stream",
     "text": [
      "/home/u229589/workspace/private/Andrej-Karpathy-Zero-To-Hero/.venv/lib/python3.10/site-packages/torch/autograd/__init__.py:200: UserWarning: CUDA initialization: Unexpected error from cudaGetDeviceCount(). Did you run some cuda functions before calling NumCudaDevices() that might have already set an error? Error 103: integrity checks failed (Triggered internally at ../c10/cuda/CUDAFunctions.cpp:109.)\n",
      "  Variable._execution_engine.run_backward(  # Calls into the C++ engine to run the backward pass\n"
     ]
    },
    {
     "name": "stdout",
     "output_type": "stream",
     "text": [
      "4.080554008483887\n",
      "3.8978171348571777\n",
      "3.756769895553589\n",
      "3.641490936279297\n",
      "3.5430538654327393\n",
      "3.4580018520355225\n",
      "3.384303092956543\n",
      "3.3202128410339355\n",
      "3.264178991317749\n",
      "3.2148759365081787\n",
      "3.171208620071411\n",
      "3.132293462753296\n",
      "3.097419261932373\n",
      "3.066009759902954\n",
      "3.037592649459839\n",
      "3.0117721557617188\n",
      "2.9882142543792725\n",
      "2.966632127761841\n",
      "2.9467766284942627\n",
      "2.928433656692505\n",
      "2.91141676902771\n",
      "2.89556622505188\n",
      "2.880744695663452\n",
      "2.866834878921509\n",
      "2.8537375926971436\n",
      "2.841367244720459\n",
      "2.829653024673462\n",
      "2.8185324668884277\n",
      "2.807952880859375\n",
      "2.7978689670562744\n",
      "2.788240671157837\n",
      "2.77903413772583\n",
      "2.770218849182129\n",
      "2.761768102645874\n",
      "2.753657102584839\n",
      "2.745865821838379\n",
      "2.7383744716644287\n",
      "2.7311651706695557\n",
      "2.72422194480896\n",
      "2.717531442642212\n",
      "2.7110793590545654\n",
      "2.7048537731170654\n",
      "2.698842763900757\n",
      "2.6930367946624756\n",
      "2.6874256134033203\n",
      "2.6820003986358643\n",
      "2.6767525672912598\n",
      "2.6716740131378174\n",
      "2.6667580604553223\n",
      "2.661996603012085\n",
      "2.657383918762207\n",
      "2.6529133319854736\n",
      "2.6485793590545654\n",
      "2.644375801086426\n",
      "2.6402976512908936\n",
      "2.636340379714966\n",
      "2.6324985027313232\n",
      "2.6287682056427\n",
      "2.6251440048217773\n",
      "2.6216230392456055\n",
      "2.6182007789611816\n",
      "2.614873170852661\n",
      "2.6116373538970947\n",
      "2.6084892749786377\n",
      "2.6054255962371826\n",
      "2.6024434566497803\n",
      "2.5995397567749023\n",
      "2.5967116355895996\n",
      "2.593956470489502\n",
      "2.591270923614502\n",
      "2.5886528491973877\n",
      "2.5861008167266846\n",
      "2.583610773086548\n",
      "2.581181526184082\n",
      "2.578810453414917\n",
      "2.576496124267578\n",
      "2.5742359161376953\n",
      "2.572028398513794\n",
      "2.569871664047241\n",
      "2.5677638053894043\n",
      "2.5657033920288086\n",
      "2.5636889934539795\n",
      "2.561718225479126\n",
      "2.559790849685669\n",
      "2.5579044818878174\n",
      "2.556058883666992\n",
      "2.5542516708374023\n",
      "2.5524821281433105\n",
      "2.550748825073242\n",
      "2.549051523208618\n",
      "2.5473885536193848\n",
      "2.545758008956909\n",
      "2.5441601276397705\n",
      "2.542593479156494\n",
      "2.5410573482513428\n",
      "2.539550542831421\n",
      "2.5380728244781494\n",
      "2.5366227626800537\n",
      "2.5351996421813965\n"
     ]
    }
   ],
   "source": [
    "# apply gradient descent\n",
    "losses = []\n",
    "for _ in range(100):\n",
    "    # forward pass\n",
    "    xenc1 = F.one_hot(xs[:,0], num_classes=27).float()\n",
    "    xenc2 = F.one_hot(xs[:,1], num_classes=27).float()\n",
    "    xenc12 = torch.cat([xenc1, xenc2], dim=1)\n",
    "    logits = xenc12 @ W\n",
    "    counts = logits.exp()\n",
    "    probs = counts / counts.sum(dim=1, keepdim=True)\n",
    "\n",
    "    # loss\n",
    "    loss = -probs[torch.arange(xs.shape[0]), ys].log().mean() + 0.1 * (W ** 2).mean()\n",
    "    print(loss.item())\n",
    "    losses.append(loss.item())\n",
    "\n",
    "    # backward pass\n",
    "    W.grad = None\n",
    "    loss.backward()\n",
    "    W.data += -10 * W.grad"
   ]
  },
  {
   "cell_type": "code",
   "execution_count": 16,
   "metadata": {},
   "outputs": [
    {
     "data": {
      "text/plain": [
       "[<matplotlib.lines.Line2D at 0x7fc7dafcec20>]"
      ]
     },
     "execution_count": 16,
     "metadata": {},
     "output_type": "execute_result"
    },
    {
     "data": {
      "image/png": "[encoded data removed]",
      "text/plain": [
       "<Figure size 640x480 with 1 Axes>"
      ]
     },
     "metadata": {},
     "output_type": "display_data"
    }
   ],
   "source": [
    "import matplotlib.pyplot as plt\n",
    "\n",
    "plt.plot(range(len(losses)), losses)"
   ]
  },
  {
   "cell_type": "code",
   "execution_count": 17,
   "metadata": {},
   "outputs": [
    {
     "name": "stdout",
     "output_type": "stream",
     "text": [
      "tworani.\n",
      "ies.\n",
      "le.\n",
      "iaitoin.\n",
      "alox.\n",
      "allirasn.\n",
      "ha.\n",
      "ri.\n",
      "halayly.\n",
      "gvkbejhtaere.\n"
     ]
    }
   ],
   "source": [
    "for _ in range(10):\n",
    "\n",
    "    sampled_name = []\n",
    "    idxs = [0, 0]\n",
    "\n",
    "    while True:\n",
    "        xenc1 = F.one_hot(torch.tensor([idxs[0]]), num_classes=27).float()\n",
    "        xenc2 = F.one_hot(torch.tensor([idxs[1]]), num_classes=27).float()\n",
    "        xenc12 = torch.cat([xenc1, xenc2], dim=1)\n",
    "        logits = xenc12 @ W\n",
    "        counts = logits.exp()\n",
    "        probs = counts / counts.sum(dim=1, keepdim=True)\n",
    "        # probs = torch.ones((27)).float()/27 # uniform sampling\n",
    "\n",
    "        idx = torch.multinomial(probs, num_samples=1, replacement=True, generator=g).item()\n",
    "        sampled_name.append(itos[idx])\n",
    "\n",
    "        if itos[idx] == \".\":\n",
    "            break;\n",
    "        idxs[0] = idxs[1]\n",
    "        idxs[1] = idx\n",
    "    print(\"\".join(sampled_name))    "
   ]
  },
  {
   "cell_type": "markdown",
   "metadata": {},
   "source": [
    "### create Train/Test/Valid split"
   ]
  },
  {
   "cell_type": "code",
   "execution_count": 18,
   "metadata": {},
   "outputs": [],
   "source": [
    "# create training set:\n",
    "def create_xy_samples(words: list[str]) -> tuple[list[torch.TensorType], list[torch.TensorType]]:\n",
    "    xs, ys = [], []\n",
    "\n",
    "    for w in words:\n",
    "        chars = [\".\", \".\"] + list(w) + [\".\"]\n",
    "        for char1, char2, char3 in zip(chars, chars[1:], chars[2:]):\n",
    "            idx1 = stoi[char1]\n",
    "            idx2 = stoi[char2]\n",
    "            idx3 = stoi[char3]\n",
    "            # print(char1, char2, char3)\n",
    "            xs.append([idx1, idx2])\n",
    "            ys.append(idx3)\n",
    "        \n",
    "    xs = torch.tensor(xs)\n",
    "    ys = torch.tensor(ys)\n",
    "    return xs, ys"
   ]
  },
  {
   "cell_type": "code",
   "execution_count": 19,
   "metadata": {},
   "outputs": [
    {
     "data": {
      "text/plain": [
       "(25626, 3203, 3204)"
      ]
     },
     "execution_count": 19,
     "metadata": {},
     "output_type": "execute_result"
    }
   ],
   "source": [
    "total_size = len(words)\n",
    "train_size = int(total_size * 0.8)\n",
    "valid_size = int(total_size * 0.1)\n",
    "test_size = total_size - train_size - valid_size\n",
    "(train_size, valid_size, test_size)"
   ]
  },
  {
   "cell_type": "code",
   "execution_count": 20,
   "metadata": {},
   "outputs": [],
   "source": [
    "shuffeld_words_idx = torch.randperm(len(words))"
   ]
  },
  {
   "cell_type": "code",
   "execution_count": 21,
   "metadata": {},
   "outputs": [
    {
     "data": {
      "text/plain": [
       "torch.Size([3204])"
      ]
     },
     "execution_count": 21,
     "metadata": {},
     "output_type": "execute_result"
    }
   ],
   "source": [
    "train_idx = shuffeld_words_idx[:train_size]\n",
    "valid_idx = shuffeld_words_idx[train_size:(train_size+valid_size)]\n",
    "test_idx = shuffeld_words_idx[(train_size+valid_size):]\n",
    "test_idx.shape"
   ]
  },
  {
   "cell_type": "code",
   "execution_count": 22,
   "metadata": {},
   "outputs": [],
   "source": [
    "train_words = [words[idx] for idx in train_idx]\n",
    "valid_words = [words[idx] for idx in valid_idx]\n",
    "test_words = [words[idx] for idx in test_idx]"
   ]
  },
  {
   "cell_type": "code",
   "execution_count": 23,
   "metadata": {},
   "outputs": [
    {
     "data": {
      "text/plain": [
       "(torch.Size([182583, 2]),\n",
       " torch.Size([182583]),\n",
       " torch.Size([22704, 2]),\n",
       " torch.Size([22704]),\n",
       " torch.Size([22859, 2]),\n",
       " torch.Size([22859]))"
      ]
     },
     "execution_count": 23,
     "metadata": {},
     "output_type": "execute_result"
    }
   ],
   "source": [
    "Xtr, Ytr = create_xy_samples(train_words)\n",
    "Xva, Yva = create_xy_samples(valid_words)\n",
    "Xte, Yte = create_xy_samples(test_words)\n",
    "Xtr.shape, Ytr.shape, Xva.shape, Yva.shape, Xte.shape, Yte.shape"
   ]
  },
  {
   "cell_type": "code",
   "execution_count": 24,
   "metadata": {},
   "outputs": [
    {
     "name": "stdout",
     "output_type": "stream",
     "text": [
      "5.202478408813477 4.094376087188721\n",
      "5.037905693054199 3.976118326187134\n",
      "4.896047115325928 3.8736002445220947\n",
      "4.771401405334473 3.7840495109558105\n",
      "4.661001682281494 3.7051210403442383\n",
      "4.5623369216918945 3.6346750259399414\n",
      "4.4731364250183105 3.5709731578826904\n",
      "4.391556739807129 3.5127692222595215\n",
      "4.3162713050842285 3.4592270851135254\n",
      "4.246377944946289 3.409778118133545\n",
      "4.1812520027160645 3.364008665084839\n",
      "4.120429039001465 3.3215856552124023\n",
      "4.063530445098877 3.2822206020355225\n",
      "4.010227203369141 3.245654582977295\n",
      "3.960221290588379 3.211649179458618\n",
      "3.9132399559020996 3.1799826622009277\n",
      "3.869032382965088 3.150454521179199\n",
      "3.8273684978485107 3.1228792667388916\n",
      "3.7880377769470215 3.097087860107422\n",
      "3.750850200653076 3.0729286670684814\n",
      "3.715632915496826 3.0502634048461914\n",
      "3.682229995727539 3.0289695262908936\n",
      "3.6505017280578613 3.00893497467041\n",
      "3.620321273803711 2.9900596141815186\n",
      "3.5915753841400146 2.9722533226013184\n",
      "3.5641610622406006 2.9554336071014404\n",
      "3.5379838943481445 2.9395267963409424\n",
      "3.512960910797119 2.924466848373413\n",
      "3.489013910293579 2.9101905822753906\n",
      "3.4660725593566895 2.8966429233551025\n",
      "3.4440722465515137 2.8837733268737793\n",
      "3.4229543209075928 2.8715341091156006\n",
      "3.402662992477417 2.85988187789917\n",
      "3.383148670196533 2.8487775325775146\n",
      "3.364365339279175 2.838184118270874\n",
      "3.3462696075439453 2.8280675411224365\n",
      "3.3288216590881348 2.8183975219726562\n",
      "3.3119845390319824 2.8091447353363037\n",
      "3.295724630355835 2.8002827167510986\n",
      "3.280010938644409 2.7917869091033936\n",
      "3.264813184738159 2.783635139465332\n",
      "3.2501049041748047 2.7758069038391113\n",
      "3.235861301422119 2.768281936645508\n",
      "3.2220590114593506 2.7610435485839844\n",
      "3.2086760997772217 2.754075050354004\n",
      "3.1956934928894043 2.747361421585083\n",
      "3.183091640472412 2.7408885955810547\n",
      "3.170853614807129 2.7346444129943848\n",
      "3.1589643955230713 2.7286159992218018\n",
      "3.1474077701568604 2.7227931022644043\n",
      "3.1361703872680664 2.7171647548675537\n",
      "3.125239133834839 2.7117221355438232\n",
      "3.1146016120910645 2.706455945968628\n",
      "3.1042468547821045 2.7013585567474365\n",
      "3.0941638946533203 2.6964216232299805\n",
      "3.0843427181243896 2.691638946533203\n",
      "3.0747742652893066 2.687002658843994\n",
      "3.065448760986328 2.6825075149536133\n",
      "3.0563580989837646 2.6781468391418457\n",
      "3.047494888305664 2.6739161014556885\n",
      "3.0388505458831787 2.669809103012085\n",
      "3.030418872833252 2.6658213138580322\n",
      "3.0221927165985107 2.6619486808776855\n",
      "3.0141654014587402 2.658186197280884\n",
      "3.0063304901123047 2.6545298099517822\n",
      "2.998682975769043 2.6509757041931152\n",
      "2.9912164211273193 2.6475205421447754\n",
      "2.9839255809783936 2.644160747528076\n",
      "2.9768056869506836 2.640892267227173\n",
      "2.969851016998291 2.637712240219116\n",
      "2.96305775642395 2.634618043899536\n",
      "2.956420660018921 2.631606340408325\n",
      "2.9499356746673584 2.6286749839782715\n",
      "2.9435982704162598 2.6258203983306885\n",
      "2.9374046325683594 2.6230413913726807\n",
      "2.9313509464263916 2.6203339099884033\n",
      "2.925433397293091 2.617696762084961\n",
      "2.9196481704711914 2.6151273250579834\n",
      "2.9139914512634277 2.612623929977417\n",
      "2.9084603786468506 2.6101839542388916\n",
      "2.9030518531799316 2.6078059673309326\n",
      "2.897761821746826 2.605487585067749\n",
      "2.892587661743164 2.603227376937866\n",
      "2.8875269889831543 2.6010231971740723\n",
      "2.8825762271881104 2.5988738536834717\n",
      "2.877732515335083 2.5967774391174316\n",
      "2.8729939460754395 2.5947325229644775\n",
      "2.868356704711914 2.5927371978759766\n",
      "2.863819122314453 2.5907907485961914\n",
      "2.8593788146972656 2.58889102935791\n",
      "2.8550326824188232 2.5870373249053955\n",
      "2.8507795333862305 2.5852279663085938\n",
      "2.8466155529022217 2.5834617614746094\n",
      "2.8425397872924805 2.581737756729126\n",
      "2.838550090789795 2.5800540447235107\n",
      "2.8346433639526367 2.5784103870391846\n",
      "2.8308186531066895 2.5768051147460938\n",
      "2.827073812484741 2.575237512588501\n",
      "2.82340669631958 2.5737061500549316\n",
      "2.8198156356811523 2.5722103118896484\n",
      "time used: 4.294117212295532\n"
     ]
    }
   ],
   "source": [
    "# train trigram NN\n",
    "g = torch.Generator().manual_seed(2147483647)\n",
    "W = torch.randn((54,27), generator=g, requires_grad=True)\n",
    "\n",
    "xenc1 = F.one_hot(Xtr[:,0], num_classes=27).float()\n",
    "xenc2 = F.one_hot(Xtr[:,1], num_classes=27).float()\n",
    "xenc = torch.cat([xenc1, xenc2], dim=1)\n",
    "\n",
    "xenc1 = F.one_hot(Xva[:,0], num_classes=27).float()\n",
    "xenc2 = F.one_hot(Xva[:,1], num_classes=27).float()\n",
    "xenc_valid = torch.cat([xenc1, xenc2], dim=1)\n",
    "\n",
    "start_time = time.time()\n",
    "losses = []\n",
    "valid_losses = []\n",
    "for _ in range(100):\n",
    "    # forward pass\n",
    "    logits = xenc @ W\n",
    "    counts = logits.exp()\n",
    "    probs = counts / counts.sum(dim=1, keepdim=True)\n",
    "\n",
    "    # loss\n",
    "    loss = -probs[torch.arange(Xtr.shape[0]), Ytr].log().mean() + 1 * (W ** 2).mean()\n",
    "    losses.append(loss.item())\n",
    "\n",
    "    # backward pass\n",
    "    W.grad = None\n",
    "    loss.backward()\n",
    "    W.data += -5 * W.grad\n",
    "\n",
    "    with torch.no_grad():\n",
    "        logits_val = xenc_valid @ W\n",
    "        counts_val = logits_val.exp()\n",
    "        probs_val = counts_val / counts_val.sum(dim=1, keepdim=True)\n",
    "\n",
    "        loss_valid = -probs_val[torch.arange(Xva.shape[0]), Yva].log().mean()\n",
    "        valid_losses.append(loss_valid.item())\n",
    "\n",
    "    print(loss.item(), loss_valid.item())\n",
    "\n",
    "print(f\"time used: {time.time() - start_time}\")"
   ]
  },
  {
   "cell_type": "code",
   "execution_count": 25,
   "metadata": {},
   "outputs": [
    {
     "data": {
      "text/plain": [
       "<matplotlib.legend.Legend at 0x7fc7db05c2b0>"
      ]
     },
     "execution_count": 25,
     "metadata": {},
     "output_type": "execute_result"
    },
    {
     "data": {
      "image/png": "[encoded data removed]",
      "text/plain": [
       "<Figure size 640x480 with 1 Axes>"
      ]
     },
     "metadata": {},
     "output_type": "display_data"
    }
   ],
   "source": [
    "plt.plot(torch.arange(len(losses)), losses)\n",
    "plt.plot(torch.arange(len(valid_losses)), valid_losses)\n",
    "plt.legend([\"Training loss\", \"Valid loss\"])"
   ]
  },
  {
   "cell_type": "code",
   "execution_count": null,
   "metadata": {},
   "outputs": [],
   "source": [
    "# c          train loss     |   valid loss\n",
    "# c = 100    -> 3.2539732456207275 3.2154977321624756\n",
    "# c =  10    -> 3.0265824794769287 2.866492748260498\n",
    "# c =   1    -> 2.8211441040039062 2.568406343460083\n",
    "# c =   0.1  -> 2.666152238845825 2.597468137741089\n",
    "# c =   0.01 -> 2.616381883621216 2.6072781085968018\n",
    "# c = 0.0..1 -> 2.6101174354553223 2.6084816455841064\n"
   ]
  },
  {
   "cell_type": "code",
   "execution_count": 26,
   "metadata": {},
   "outputs": [
    {
     "name": "stdout",
     "output_type": "stream",
     "text": [
      "2.5678369998931885\n"
     ]
    }
   ],
   "source": [
    "# evaluate on test set\n",
    "\n",
    "# forward pass\n",
    "xenc1 = F.one_hot(Xte[:,0], num_classes=27).float()\n",
    "xenc2 = F.one_hot(Xte[:,1], num_classes=27).float()\n",
    "xenc_test = torch.cat([xenc1, xenc2], dim=1)\n",
    "logits_test = xenc_test @ W\n",
    "counts_test = logits_test.exp()\n",
    "probs_test = counts_test / counts_test.sum(dim=1, keepdim=True)\n",
    "\n",
    "# loss\n",
    "loss = -probs_test[torch.arange(Xte.shape[0]), Yte].log().mean()\n",
    "print(loss.item())"
   ]
  },
  {
   "cell_type": "markdown",
   "metadata": {},
   "source": [
    "### Convert One Hot Encoding to direct indexing"
   ]
  },
  {
   "cell_type": "code",
   "execution_count": 36,
   "metadata": {},
   "outputs": [
    {
     "data": {
      "text/plain": [
       "tensor([[ 0, 27],\n",
       "        [ 0, 33],\n",
       "        [ 6, 28],\n",
       "        [ 1, 50],\n",
       "        [23, 41]])"
      ]
     },
     "execution_count": 36,
     "metadata": {},
     "output_type": "execute_result"
    }
   ],
   "source": [
    "xs_train_idx = Xtr[:5,:] + torch.tensor((0, 27))\n",
    "xs_train_idx"
   ]
  },
  {
   "cell_type": "code",
   "execution_count": 37,
   "metadata": {},
   "outputs": [
    {
     "name": "stdout",
     "output_type": "stream",
     "text": [
      "5.202478408813477 4.094371318817139\n",
      "5.037900924682617 3.97611665725708\n",
      "4.896045684814453 3.873596429824829\n",
      "4.771397590637207 3.784048318862915\n",
      "4.660999774932861 3.705120086669922\n",
      "4.562335968017578 3.6346733570098877\n",
      "4.473134517669678 3.5709710121154785\n",
      "4.391554832458496 3.5127673149108887\n",
      "4.316269874572754 3.4592251777648926\n",
      "4.246376037597656 3.4097766876220703\n",
      "4.18125057220459 3.3640072345733643\n",
      "4.120427131652832 3.3215839862823486\n",
      "4.063529014587402 3.2822201251983643\n",
      "4.010226249694824 3.2456541061401367\n",
      "3.9602208137512207 3.2116479873657227\n",
      "3.9132394790649414 3.1799826622009277\n",
      "3.869032144546509 3.15045428276062\n",
      "3.8273680210113525 3.122878313064575\n",
      "3.788037061691284 3.0970866680145264\n",
      "3.750849485397339 3.0729269981384277\n",
      "3.7156317234039307 3.050262689590454\n",
      "3.682229518890381 3.0289692878723145\n",
      "3.650501251220703 3.008934259414673\n",
      "3.620321035385132 2.9900588989257812\n",
      "3.5915751457214355 2.972252368927002\n",
      "3.5641603469848633 2.955432891845703\n",
      "3.5379834175109863 2.9395267963409424\n",
      "3.512960433959961 2.924466133117676\n",
      "3.489013195037842 2.910189628601074\n",
      "3.4660723209381104 2.8966426849365234\n",
      "3.4440720081329346 2.883772611618042\n",
      "3.4229533672332764 2.8715333938598633\n",
      "3.402662515640259 2.8598814010620117\n",
      "3.383148431777954 2.8487770557403564\n",
      "3.3643651008605957 2.8381834030151367\n",
      "3.346269130706787 2.8280670642852783\n",
      "3.3288211822509766 2.818396806716919\n",
      "3.311984062194824 2.8091440200805664\n",
      "3.295724630355835 2.8002822399139404\n",
      "3.280010461807251 2.7917866706848145\n",
      "3.264812707901001 2.783634901046753\n",
      "3.2501049041748047 2.775806188583374\n",
      "3.235861301422119 2.7682814598083496\n",
      "3.2220590114593506 2.7610433101654053\n",
      "3.2086760997772217 2.754074811935425\n",
      "3.195693016052246 2.747361183166504\n",
      "3.183091402053833 2.7408883571624756\n",
      "3.170853853225708 2.7346441745758057\n",
      "3.158964157104492 2.7286159992218018\n",
      "3.1474075317382812 2.722792625427246\n",
      "3.136169910430908 2.7171645164489746\n",
      "3.1252386569976807 2.711721658706665\n",
      "3.1146013736724854 2.706455945968628\n",
      "3.1042468547821045 2.7013583183288574\n",
      "3.094163656234741 2.6964216232299805\n",
      "3.0843427181243896 2.691638946533203\n",
      "3.0747740268707275 2.687002658843994\n",
      "3.065448522567749 2.682507276535034\n",
      "3.0563580989837646 2.6781468391418457\n",
      "3.047494411468506 2.6739158630371094\n",
      "3.0388503074645996 2.669809103012085\n",
      "3.030418872833252 2.6658213138580322\n",
      "3.0221924781799316 2.6619486808776855\n",
      "3.014165163040161 2.6581857204437256\n",
      "3.0063302516937256 2.654529571533203\n",
      "2.998682975769043 2.6509757041931152\n",
      "2.9912161827087402 2.6475205421447754\n",
      "2.9839255809783936 2.644160270690918\n",
      "2.9768052101135254 2.6408917903900146\n",
      "2.969851016998291 2.637712240219116\n",
      "2.963057518005371 2.634617567062378\n",
      "2.956420660018921 2.631606340408325\n",
      "2.9499354362487793 2.6286747455596924\n",
      "2.9435982704162598 2.6258203983306885\n",
      "2.9374046325683594 2.6230409145355225\n",
      "2.9313509464263916 2.6203339099884033\n",
      "2.925433397293091 2.617696762084961\n",
      "2.9196481704711914 2.6151270866394043\n",
      "2.9139914512634277 2.612623691558838\n",
      "2.9084601402282715 2.6101839542388916\n",
      "2.9030511379241943 2.6078057289123535\n",
      "2.897761583328247 2.605487585067749\n",
      "2.892587900161743 2.603227138519287\n",
      "2.8875269889831543 2.601022958755493\n",
      "2.8825762271881104 2.5988738536834717\n",
      "2.877732753753662 2.5967774391174316\n",
      "2.8729934692382812 2.5947325229644775\n",
      "2.868356704711914 2.5927371978759766\n",
      "2.863819122314453 2.5907907485961914\n",
      "2.8593785762786865 2.588890790939331\n",
      "2.8550329208374023 2.5870373249053955\n",
      "2.8507792949676514 2.5852277278900146\n",
      "2.8466153144836426 2.5834617614746094\n",
      "2.8425397872924805 2.5817372798919678\n",
      "2.838549852371216 2.5800540447235107\n",
      "2.8346433639526367 2.5784103870391846\n",
      "2.8308186531066895 2.5768051147460938\n",
      "2.827073812484741 2.575237274169922\n",
      "2.82340669631958 2.5737061500549316\n",
      "2.8198156356811523 2.5722103118896484\n",
      "time used: 10.74356746673584\n"
     ]
    },
    {
     "data": {
      "text/plain": [
       "[<matplotlib.lines.Line2D at 0x7fc7dbb457e0>]"
      ]
     },
     "execution_count": 37,
     "metadata": {},
     "output_type": "execute_result"
    },
    {
     "data": {
      "image/png": "[encoded data removed]",
      "text/plain": [
       "<Figure size 640x480 with 1 Axes>"
      ]
     },
     "metadata": {},
     "output_type": "display_data"
    }
   ],
   "source": [
    "# train trigram NN\n",
    "g = torch.Generator().manual_seed(2147483647)\n",
    "W = torch.randn((54,27), generator=g, requires_grad=True)\n",
    "\n",
    "losses = []\n",
    "valid_losses = []\n",
    "start_time = time.time()\n",
    "for _ in range(100):\n",
    "    # forward pass\n",
    "    logits = W[Xtr[:,0]] + W[(Xtr[:,1]+torch.tensor((27)))]\n",
    "    counts = logits.exp()\n",
    "    probs = counts / counts.sum(dim=1, keepdim=True)\n",
    "\n",
    "    # loss\n",
    "    loss = -probs[torch.arange(Xtr.shape[0]), Ytr].log().mean() + 1 * (W ** 2).mean()\n",
    "    losses.append(loss.item())\n",
    "\n",
    "    # backward pass\n",
    "    W.grad = None\n",
    "    loss.backward()\n",
    "    W.data += -5 * W.grad\n",
    "\n",
    "    with torch.no_grad():\n",
    "        logits_val = W[Xva[:,0]] + W[(Xva[:,1]+torch.tensor((27)))]\n",
    "        counts_val = logits_val.exp()\n",
    "        probs_val = counts_val / counts_val.sum(dim=1, keepdim=True)\n",
    "\n",
    "        loss_valid = -probs_val[torch.arange(Xva.shape[0]), Yva].log().mean()\n",
    "        valid_losses.append(loss_valid.item())\n",
    "\n",
    "    print(loss.item(), loss_valid.item())\n",
    "\n",
    "print(f\"time used: {time.time() - start_time}\")\n",
    "plt.plot(torch.arange(len(losses)), losses)\n",
    "plt.plot(torch.arange(len(valid_losses)), valid_losses)"
   ]
  },
  {
   "cell_type": "markdown",
   "metadata": {},
   "source": [
    "### Use F.cross_entropy"
   ]
  },
  {
   "cell_type": "code",
   "execution_count": 38,
   "metadata": {},
   "outputs": [],
   "source": [
    "g = torch.Generator().manual_seed(2147483647)\n",
    "W = torch.randn((54,27), generator=g, requires_grad=True)\n",
    "\n",
    "xenc1 = F.one_hot(Xtr[:,0], num_classes=27).float()\n",
    "xenc2 = F.one_hot(Xtr[:,1], num_classes=27).float()\n",
    "xenc = torch.cat([xenc1, xenc2], dim=1)\n",
    "\n",
    "xenc1 = F.one_hot(Xva[:,0], num_classes=27).float()\n",
    "xenc2 = F.one_hot(Xva[:,1], num_classes=27).float()\n",
    "xenc_valid = torch.cat([xenc1, xenc2], dim=1)"
   ]
  },
  {
   "cell_type": "code",
   "execution_count": 39,
   "metadata": {},
   "outputs": [
    {
     "data": {
      "text/plain": [
       "torch.Size([182583, 27])"
      ]
     },
     "execution_count": 39,
     "metadata": {},
     "output_type": "execute_result"
    }
   ],
   "source": [
    "logits = xenc @ W\n",
    "logits.shape"
   ]
  },
  {
   "cell_type": "code",
   "execution_count": 40,
   "metadata": {},
   "outputs": [
    {
     "data": {
      "text/plain": [
       "torch.Size([182583, 27])"
      ]
     },
     "execution_count": 40,
     "metadata": {},
     "output_type": "execute_result"
    }
   ],
   "source": [
    "F.one_hot(Ytr, num_classes=27).float().shape"
   ]
  },
  {
   "cell_type": "code",
   "execution_count": 41,
   "metadata": {},
   "outputs": [
    {
     "data": {
      "text/plain": [
       "4.232438087463379"
      ]
     },
     "execution_count": 41,
     "metadata": {},
     "output_type": "execute_result"
    }
   ],
   "source": [
    "F.cross_entropy(logits, F.one_hot(Ytr, num_classes=27).float()).item()"
   ]
  },
  {
   "cell_type": "code",
   "execution_count": 42,
   "metadata": {},
   "outputs": [
    {
     "name": "stdout",
     "output_type": "stream",
     "text": [
      "5.202478885650635 4.094376087188721\n",
      "5.037906169891357 3.976118564605713\n",
      "4.896047592163086 3.8735997676849365\n",
      "4.771401882171631 3.7840499877929688\n",
      "4.661001205444336 3.705120801925659\n",
      "4.5623369216918945 3.6346747875213623\n",
      "4.473135948181152 3.5709729194641113\n",
      "4.391556739807129 3.5127692222595215\n",
      "4.316271781921387 3.4592270851135254\n",
      "4.246377468109131 3.409778356552124\n",
      "4.181251525878906 3.364008665084839\n",
      "4.120429039001465 3.3215854167938232\n",
      "4.063530445098877 3.2822206020355225\n",
      "4.010227203369141 3.245654582977295\n",
      "3.960221290588379 3.21164870262146\n",
      "3.9132399559020996 3.1799826622009277\n",
      "3.869032859802246 3.150454521179199\n",
      "3.8273684978485107 3.1228790283203125\n",
      "3.7880377769470215 3.097087860107422\n",
      "3.750850200653076 3.0729284286499023\n",
      "3.715632915496826 3.0502636432647705\n",
      "3.6822304725646973 3.0289692878723145\n",
      "3.650501251220703 3.00893497467041\n",
      "3.620321750640869 2.9900596141815186\n",
      "3.5915751457214355 2.9722533226013184\n",
      "3.5641608238220215 2.9554331302642822\n",
      "3.5379843711853027 2.9395270347595215\n",
      "3.512960910797119 2.924466371536255\n",
      "3.489013671875 2.9101903438568115\n",
      "3.4660725593566895 2.8966434001922607\n",
      "3.4440722465515137 2.8837733268737793\n",
      "3.4229538440704346 2.8715338706970215\n",
      "3.402662754058838 2.859882116317749\n",
      "3.3831491470336914 2.8487775325775146\n",
      "3.364365577697754 2.838184118270874\n",
      "3.3462696075439453 2.8280675411224365\n",
      "3.3288216590881348 2.8183975219726562\n",
      "3.3119847774505615 2.8091444969177246\n",
      "3.295724630355835 2.8002827167510986\n",
      "3.280010938644409 2.7917866706848145\n",
      "3.2648134231567383 2.783635377883911\n",
      "3.2501049041748047 2.7758066654205322\n",
      "3.235861301422119 2.7682816982269287\n",
      "3.2220592498779297 2.7610435485839844\n",
      "3.208676338195801 2.754075050354004\n",
      "3.195693254470825 2.747361421585083\n",
      "3.183091640472412 2.740888833999634\n",
      "3.170854091644287 2.7346441745758057\n",
      "3.1589643955230713 2.7286159992218018\n",
      "3.1474080085754395 2.722792863845825\n",
      "3.1361703872680664 2.717164993286133\n",
      "3.125239133834839 2.7117221355438232\n",
      "3.1146018505096436 2.706456184387207\n",
      "3.1042468547821045 2.7013587951660156\n",
      "3.0941638946533203 2.6964218616485596\n",
      "3.0843429565429688 2.691638946533203\n",
      "3.0747737884521484 2.6870031356811523\n",
      "3.0654489994049072 2.6825075149536133\n",
      "3.0563583374023438 2.678147077560425\n",
      "3.047494888305664 2.6739158630371094\n",
      "3.038850784301758 2.669809103012085\n",
      "3.030418872833252 2.6658215522766113\n",
      "3.0221927165985107 2.6619486808776855\n",
      "3.014165163040161 2.658186197280884\n",
      "3.0063304901123047 2.6545298099517822\n",
      "2.998682975769043 2.6509759426116943\n",
      "2.9912161827087402 2.6475205421447754\n",
      "2.9839255809783936 2.644160509109497\n",
      "2.9768054485321045 2.6408920288085938\n",
      "2.969851016998291 2.637712240219116\n",
      "2.963057518005371 2.634618043899536\n",
      "2.956420421600342 2.631606340408325\n",
      "2.9499356746673584 2.6286747455596924\n",
      "2.943598508834839 2.6258203983306885\n",
      "2.9374048709869385 2.6230409145355225\n",
      "2.9313509464263916 2.6203339099884033\n",
      "2.925433397293091 2.617696762084961\n",
      "2.9196481704711914 2.6151275634765625\n",
      "2.9139914512634277 2.612623929977417\n",
      "2.9084606170654297 2.6101837158203125\n",
      "2.9030516147613525 2.6078059673309326\n",
      "2.897761821746826 2.60548734664917\n",
      "2.892587661743164 2.603227376937866\n",
      "2.8875269889831543 2.6010231971740723\n",
      "2.8825759887695312 2.5988736152648926\n",
      "2.877732753753662 2.5967772006988525\n",
      "2.8729937076568604 2.5947320461273193\n",
      "2.868356704711914 2.5927371978759766\n",
      "2.8638193607330322 2.5907907485961914\n",
      "2.8593788146972656 2.5888912677764893\n",
      "2.8550329208374023 2.5870373249053955\n",
      "2.8507792949676514 2.5852279663085938\n",
      "2.8466155529022217 2.5834617614746094\n",
      "2.8425400257110596 2.581737756729126\n",
      "2.838550090789795 2.5800540447235107\n",
      "2.834643602371216 2.5784103870391846\n",
      "2.8308186531066895 2.576805353164673\n",
      "2.827073812484741 2.57523775100708\n",
      "2.8234071731567383 2.5737063884735107\n",
      "2.8198156356811523 2.5722105503082275\n",
      "time used: 3.7171311378479004\n"
     ]
    },
    {
     "data": {
      "text/plain": [
       "[<matplotlib.lines.Line2D at 0x7fc7dbec41c0>]"
      ]
     },
     "execution_count": 42,
     "metadata": {},
     "output_type": "execute_result"
    },
    {
     "data": {
      "image/png": "[encoded data removed]",
      "text/plain": [
       "<Figure size 640x480 with 1 Axes>"
      ]
     },
     "metadata": {},
     "output_type": "display_data"
    }
   ],
   "source": [
    "# train trigram NN\n",
    "g = torch.Generator().manual_seed(2147483647)\n",
    "W = torch.randn((54,27), generator=g, requires_grad=True)\n",
    "\n",
    "xenc1 = F.one_hot(Xtr[:,0], num_classes=27).float()\n",
    "xenc2 = F.one_hot(Xtr[:,1], num_classes=27).float()\n",
    "xenc = torch.cat([xenc1, xenc2], dim=1)\n",
    "\n",
    "xenc1 = F.one_hot(Xva[:,0], num_classes=27).float()\n",
    "xenc2 = F.one_hot(Xva[:,1], num_classes=27).float()\n",
    "xenc_valid = torch.cat([xenc1, xenc2], dim=1)\n",
    "\n",
    "start_time = time.time()\n",
    "losses = []\n",
    "valid_losses = []\n",
    "for _ in range(100):\n",
    "    # forward pass\n",
    "    logits = xenc @ W\n",
    "\n",
    "    loss = F.cross_entropy(logits, F.one_hot(Ytr, num_classes=27).float()) + 1 * (W ** 2).mean()\n",
    "    # counts = logits.exp()\n",
    "    # probs = counts / counts.sum(dim=1, keepdim=True)\n",
    "\n",
    "    # # loss\n",
    "    # loss = -probs[torch.arange(xs_train.shape[0]), ys_train].log().mean() + 1 * (W ** 2).mean()\n",
    "    losses.append(loss.item())\n",
    "\n",
    "    # backward pass\n",
    "    W.grad = None\n",
    "    loss.backward()\n",
    "    W.data += -5 * W.grad\n",
    "\n",
    "    with torch.no_grad():\n",
    "        logits_val = xenc_valid @ W\n",
    "        loss_valid = F.cross_entropy(logits_val, F.one_hot(Yva, num_classes=27).float())\n",
    "        # counts_val = logits_val.exp()\n",
    "        # probs_val = counts_val / counts_val.sum(dim=1, keepdim=True)\n",
    "\n",
    "        # loss_valid = -probs_val[torch.arange(xs_valid.shape[0]), ys_valid].log().mean()\n",
    "        valid_losses.append(loss_valid.item())\n",
    "\n",
    "    print(loss.item(), loss_valid.item())\n",
    "    # print(loss.item())\n",
    "\n",
    "print(f\"time used: {time.time() - start_time}\")\n",
    "plt.plot(torch.arange(len(losses)), losses)\n",
    "plt.plot(torch.arange(len(valid_losses)), valid_losses)"
   ]
  },
  {
   "cell_type": "code",
   "execution_count": null,
   "metadata": {},
   "outputs": [],
   "source": []
  }
 ],
 "metadata": {
  "kernelspec": {
   "display_name": ".venv",
   "language": "python",
   "name": "python3"
  },
  "language_info": {
   "codemirror_mode": {
    "name": "ipython",
    "version": 3
   },
   "file_extension": ".py",
   "mimetype": "text/x-python",
   "name": "python",
   "nbconvert_exporter": "python",
   "pygments_lexer": "ipython3",
   "version": "3.10.11"
  }
 },
 "nbformat": 4,
 "nbformat_minor": 2
}
